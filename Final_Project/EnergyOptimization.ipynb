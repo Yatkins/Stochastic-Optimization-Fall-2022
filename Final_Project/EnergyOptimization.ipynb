{
  "nbformat": 4,
  "nbformat_minor": 0,
  "metadata": {
    "colab": {
      "provenance": []
    },
    "kernelspec": {
      "name": "python3",
      "display_name": "Python 3"
    },
    "language_info": {
      "name": "python"
    }
  },
  "cells": [
    {
      "cell_type": "markdown",
      "source": [
        "##Get Libraries"
      ],
      "metadata": {
        "id": "BwRQGI_Ow2_4"
      }
    },
    {
      "cell_type": "code",
      "source": [
        "# https://www.solarreviews.com/blog/how-much-does-a-3kw-solar-power-system-cost-and-how-much-electricity-does-it-produce\n",
        "\n",
        "import pandas as pd\n",
        "import numpy as np\n",
        "import math\n",
        "import matplotlib.pyplot as plt\n",
        "from scipy.special import gamma, factorial"
      ],
      "metadata": {
        "id": "tha_E5gDYGBU"
      },
      "execution_count": 16,
      "outputs": []
    },
    {
      "cell_type": "markdown",
      "source": [
        "##Set the Data"
      ],
      "metadata": {
        "id": "zIK3Qh0m6gBB"
      }
    },
    {
      "cell_type": "code",
      "source": [
        "production_array = [143.825/30, 131.78/30, 103.46/30] #kWh/month/m^2 - converted to day\n",
        "\n",
        "demand_array = [900/30, 700/30, 650/30]  #kWh/month - converted to day\n",
        "\n",
        "price_array = [.2550, .0944, .0944] #cents/kWh\n",
        "\n",
        "square_meter_of_panel_price = 646\n",
        "\n",
        "alpha = 12"
      ],
      "metadata": {
        "id": "5o7s9DK2Zo9k"
      },
      "execution_count": 2,
      "outputs": []
    },
    {
      "cell_type": "markdown",
      "source": [
        "##Define Functions"
      ],
      "metadata": {
        "id": "ZaLbBRDsueta"
      }
    },
    {
      "cell_type": "code",
      "source": [
        "def h(x):\n",
        "  if x > 0:\n",
        "    return 1\n",
        "  if x <= 0:\n",
        "    return 0"
      ],
      "metadata": {
        "id": "NeAcm_ocZqZZ"
      },
      "execution_count": 3,
      "outputs": []
    },
    {
      "cell_type": "code",
      "source": [
        "def seasonCostSummation(theta, index, seasonLength):\n",
        "\n",
        "  Yn = 0\n",
        "  j_theta = 0\n",
        "  b = -.045\n",
        "\n",
        "  numberOfSquareMeters = (1/(1 + np.exp(b*theta/square_meter_of_panel_price))-.5)\n",
        "  generated_beta = production_array[index]/gamma(1+1/alpha)*25\n",
        "  demand_beta = demand_array[index]/gamma(1+1/alpha)\n",
        "  price_beta = price_array[index]/gamma(1+1/alpha)\n",
        "  \n",
        "  for i in range(0,seasonLength):\n",
        "\n",
        "    generated = np.random.weibull(alpha)*generated_beta\n",
        "    total_generated = generated*numberOfSquareMeters\n",
        "    demand = np.random.weibull(alpha)*demand_beta\n",
        "    buying_price = np.random.weibull(alpha)*price_beta\n",
        "    selling_price = buying_price*0.8\n",
        "\n",
        "    sigmoid = numberOfSquareMeters\n",
        "    max = -buying_price * h(demand - total_generated)\n",
        "    min = +selling_price * h(total_generated - demand)\n",
        "\n",
        "    Yn += (1-sigmoid)*total_generated*(max+min)\n",
        "\n",
        "    if demand > total_generated:\n",
        "      j_theta += (demand - total_generated)*buying_price\n",
        "    else:\n",
        "      j_theta += (demand - total_generated)*selling_price\n",
        "\n",
        "    return Yn, j_theta"
      ],
      "metadata": {
        "id": "wOUSpyaWXRlY"
      },
      "execution_count": 6,
      "outputs": []
    },
    {
      "cell_type": "markdown",
      "source": [
        "##Yn"
      ],
      "metadata": {
        "id": "FfusljkSuitF"
      }
    },
    {
      "cell_type": "code",
      "source": [
        "#experiment with inital theta starting lower\n",
        "\n",
        "theta = 10000\n",
        "thetaN = 0\n",
        "\n",
        "n = 0\n",
        "\n",
        "ns = []\n",
        "thetas = []\n",
        "\n",
        "while n < 1500000:\n",
        "\n",
        "  if n > 0:\n",
        "    theta = thetaN\n",
        "    \n",
        "  n+=1\n",
        "  en = 1/math.sqrt(n)\n",
        "\n",
        "  summerYn, summerJ_theta = seasonCostSummation(theta, 0, 122)\n",
        "  fallSpringYn, fallSpringJ_theta = seasonCostSummation(theta,1, 153)\n",
        "  winterYn, winterJ_theta = seasonCostSummation(theta, 2, 90)\n",
        "\n",
        "  Yn = -summerYn-fallSpringYn-winterYn-1\n",
        "  thetaN = theta + en*Yn\n",
        "\n",
        "  ns.append(n)\n",
        "  thetas.append(thetaN)\n",
        "\n",
        "plt.plot(ns, thetas)\n",
        "plt.xlabel('n')\n",
        "plt.ylabel('theta')\n",
        "plt.show()\n",
        "\n",
        "end_cost = thetaN + summerJ_theta+fallSpringJ_theta+winterJ_theta\n",
        "\n",
        "print(end_cost)\n",
        "print(thetaN)"
      ],
      "metadata": {
        "colab": {
          "base_uri": "https://localhost:8080/",
          "height": 314
        },
        "id": "CrHpGm8kJoF2",
        "outputId": "257ec1f8-1e76-4a7f-c3f2-27cf3b317458"
      },
      "execution_count": 17,
      "outputs": [
        {
          "output_type": "display_data",
          "data": {
            "text/plain": [
              "<Figure size 432x288 with 1 Axes>"
            ],
            "image/png": "[encoded data removed]"
          },
          "metadata": {
            "needs_background": "light"
          }
        },
        {
          "output_type": "stream",
          "name": "stdout",
          "text": [
            "15009.288349333612\n",
            "15009.042928192222\n"
          ]
        }
      ]
    },
    {
      "cell_type": "code",
      "source": [
        "#experiment with inital theta starting higher\n",
        "\n",
        "theta = 25000\n",
        "thetaN = 0\n",
        "\n",
        "n = 0\n",
        "\n",
        "ns = []\n",
        "thetas = []\n",
        "\n",
        "while n < 1500000:\n",
        "\n",
        "  if n > 0:\n",
        "    theta = thetaN\n",
        "    \n",
        "  n+=1\n",
        "  en = 1/math.sqrt(n)\n",
        "\n",
        "  summerYn, summerJ_theta = seasonCostSummation(theta, 0, 122)\n",
        "  fallSpringYn, fallSpringJ_theta = seasonCostSummation(theta,1, 153)\n",
        "  winterYn, winterJ_theta = seasonCostSummation(theta, 2, 90)\n",
        "\n",
        "  Yn = -summerYn-fallSpringYn-winterYn-1\n",
        "  thetaN = theta + en*Yn\n",
        "\n",
        "  ns.append(n)\n",
        "  thetas.append(thetaN)\n",
        "\n",
        "plt.plot(ns, thetas)\n",
        "plt.xlabel('n')\n",
        "plt.ylabel('theta')\n",
        "plt.show()\n",
        "\n",
        "end_cost = thetaN + summerJ_theta+fallSpringJ_theta+winterJ_theta\n",
        "\n",
        "print(end_cost)\n",
        "print(thetaN)"
      ],
      "metadata": {
        "colab": {
          "base_uri": "https://localhost:8080/",
          "height": 314
        },
        "id": "gPYluVygxwL4",
        "outputId": "b4ef0207-1962-42bc-8886-000b1b9738e0"
      },
      "execution_count": 18,
      "outputs": [
        {
          "output_type": "display_data",
          "data": {
            "text/plain": [
              "<Figure size 432x288 with 1 Axes>"
            ],
            "image/png": "[encoded data removed]"
          },
          "metadata": {
            "needs_background": "light"
          }
        },
        {
          "output_type": "stream",
          "name": "stdout",
          "text": [
            "15106.616944513595\n",
            "15103.895556588819\n"
          ]
        }
      ]
    },
    {
      "cell_type": "code",
      "source": [
        "end_cost-thetaN"
      ],
      "metadata": {
        "colab": {
          "base_uri": "https://localhost:8080/"
        },
        "id": "aS8cHSfx0GNa",
        "outputId": "2ac588f5-4b91-4c52-9d7f-5bd24210843c"
      },
      "execution_count": 26,
      "outputs": [
        {
          "output_type": "execute_result",
          "data": {
            "text/plain": [
              "2.7213879247756267"
            ]
          },
          "metadata": {},
          "execution_count": 26
        }
      ]
    },
    {
      "cell_type": "markdown",
      "source": [
        "##Confidence Interval of 95%"
      ],
      "metadata": {
        "id": "ncut_sUYuyci"
      }
    },
    {
      "cell_type": "code",
      "source": [
        "yns = []\n",
        "theta = 15000\n",
        "\n",
        "for x in range(0,1000):\n",
        "\n",
        "  summerYn, summerJ_theta = seasonCostSummation(theta, 0, 122)\n",
        "  fallSpringYn, fallSpringJ_theta = seasonCostSummation(theta,1, 153)\n",
        "  winterYn, winterJ_theta = seasonCostSummation(theta, 2, 90)\n",
        "\n",
        "  Yn = -summerYn-fallSpringYn-winterYn-1\n",
        "\n",
        "  yns.append(Yn)\n",
        "\n",
        "mean = sum(yns)/len(yns)\n",
        "\n",
        "total = 0\n",
        "for yn in yns:\n",
        "  total += (yn-mean)**2\n",
        "\n",
        "n = len(yns)\n",
        "variance = total*(1/(n*(n-1)))\n",
        "\n",
        "convergence_min = mean - 1.96*math.sqrt(variance)\n",
        "convergence_max = mean + 1.96*math.sqrt(variance)\n",
        "\n",
        "print(convergence_min)\n",
        "print(convergence_max)"
      ],
      "metadata": {
        "colab": {
          "base_uri": "https://localhost:8080/"
        },
        "id": "eoYoW8URofjm",
        "outputId": "d64f5a2b-7286-4822-d4f0-ac069990855e"
      },
      "execution_count": 23,
      "outputs": [
        {
          "output_type": "stream",
          "name": "stdout",
          "text": [
            "-0.2547376200069714\n",
            "0.399819759020979\n"
          ]
        }
      ]
    },
    {
      "cell_type": "markdown",
      "source": [
        "##Deterministic, making sure data/methods are correct"
      ],
      "metadata": {
        "id": "bRtIWoK5t4YM"
      }
    },
    {
      "cell_type": "code",
      "source": [
        "#total generated = wiebull with scale of sigma depending on theta\n",
        "#logic = number of square meters depends on theta - linearly, exposure = rv wiebul, captured = sigmoid\n",
        "#we did = generated = wiebul, number of square meters = sigmoid, since it is simpler"
      ],
      "metadata": {
        "id": "6xJFHmOeuO-L"
      },
      "execution_count": 20,
      "outputs": []
    },
    {
      "cell_type": "code",
      "source": [
        "#plotting\n",
        "\n",
        "index = 0\n",
        "\n",
        "b = -.045 #shape - how steep\n",
        "\n",
        "thetas = []\n",
        "totalEnergy = []\n",
        "difference = []\n",
        "costs = []\n",
        "\n",
        "for theta in range(0,200000,1000):\n",
        "\n",
        "  generated = production_array[index]\n",
        "  # mean = beta*gamma(1+1/alpha)\n",
        "  numberOfSquareMeters = (1/(1 + np.exp(b*theta/square_meter_of_panel_price))-.5)*25\n",
        "  x_theta = generated*numberOfSquareMeters\n",
        "\n",
        "  demand = demand_array[index]\n",
        "  # diff = abs(x_theta-demand)\n",
        "  diff = demand-x_theta #if we invest more, we generate more than demand\n",
        "  if diff > 0:\n",
        "    cost = diff*price_array[index]\n",
        "  else:\n",
        "    cost = diff*price_array[index]*0.8\n",
        "\n",
        "  thetas.append(theta)\n",
        "  totalEnergy.append(x_theta)\n",
        "  difference.append(diff)\n",
        "  costs.append(cost)\n",
        "\n",
        "print('x_theta is a sigmoid function of theta')\n",
        "plt.plot(thetas, totalEnergy)\n",
        "plt.xlabel('theta')\n",
        "plt.ylabel('totalEnergy')\n",
        "plt.show()\n",
        "\n",
        "print('As theta goes up, we generate more exceeding our demand, increasing the difference between x_theta and demand')\n",
        "plt.plot(thetas, difference)\n",
        "plt.xlabel('theta')\n",
        "plt.ylabel('difference between demand and generated')\n",
        "plt.show()\n",
        "\n",
        "print('When theta is too small, we need to purchase energy so cost is up, when theta is too big, we sell energy so cost is negative')\n",
        "plt.plot(thetas, costs)\n",
        "plt.xlabel('theta')\n",
        "plt.ylabel('cost')\n",
        "plt.show()"
      ],
      "metadata": {
        "colab": {
          "base_uri": "https://localhost:8080/",
          "height": 875
        },
        "id": "8QwsRko0t35U",
        "outputId": "2d1ff112-7080-455b-81da-ceab6f34e95f"
      },
      "execution_count": 21,
      "outputs": [
        {
          "output_type": "stream",
          "name": "stdout",
          "text": [
            "x_theta is a sigmoid function of theta\n"
          ]
        },
        {
          "output_type": "display_data",
          "data": {
            "text/plain": [
              "<Figure size 432x288 with 1 Axes>"
            ],
            "image/png": "[encoded data removed]"
          },
          "metadata": {
            "needs_background": "light"
          }
        },
        {
          "output_type": "stream",
          "name": "stdout",
          "text": [
            "As theta goes up, we generate more exceeding our demand, increasing the difference between x_theta and demand\n"
          ]
        },
        {
          "output_type": "display_data",
          "data": {
            "text/plain": [
              "<Figure size 432x288 with 1 Axes>"
            ],
            "image/png": "[encoded data removed]"
          },
          "metadata": {
            "needs_background": "light"
          }
        },
        {
          "output_type": "stream",
          "name": "stdout",
          "text": [
            "When theta is too small, we need to purchase energy so cost is up, when theta is too big, we sell energy so cost is negative\n"
          ]
        },
        {
          "output_type": "display_data",
          "data": {
            "text/plain": [
              "<Figure size 432x288 with 1 Axes>"
            ],
            "image/png": "[encoded data removed]"
          },
          "metadata": {
            "needs_background": "light"
          }
        }
      ]
    },
    {
      "cell_type": "code",
      "source": [
        "#manual - data checking\n",
        "\n",
        "index = 0\n",
        "\n",
        "# theta = 0\n",
        "# theta =8580\n",
        "theta = 15000\n",
        "# theta = 100000\n",
        "\n",
        "b = -.045\n",
        "\n",
        "print('Season Production/m^2 ', production_array[index])\n",
        "print('Season Demand ', demand_array[index])\n",
        "print('Season Price ', price_array[index])\n",
        "\n",
        "generated = production_array[index]\n",
        "numberOfSquareMeters = (1/(1 + np.exp(b*theta/square_meter_of_panel_price))-.5)*25\n",
        "x_theta = generated*numberOfSquareMeters\n",
        "  \n",
        "demand = demand_array[index]\n",
        "diff = demand-x_theta\n",
        "if diff > 0:\n",
        "  cost = diff*price_array[index]\n",
        "else:\n",
        "  cost = diff*price_array[index]*0.8\n",
        "\n",
        "print()\n",
        "print('Theta ', theta)\n",
        "print('Generated ', x_theta)\n",
        "print('Difference ', diff)\n",
        "print('Cost ', cost)"
      ],
      "metadata": {
        "colab": {
          "base_uri": "https://localhost:8080/"
        },
        "id": "8xBvM_SeuJyu",
        "outputId": "c28f5349-6107-4a56-e6b9-a5712701a6d5"
      },
      "execution_count": 24,
      "outputs": [
        {
          "output_type": "stream",
          "name": "stdout",
          "text": [
            "Season Production/m^2  4.7941666666666665\n",
            "Season Demand  30.0\n",
            "Season Price  0.255\n",
            "\n",
            "Theta  15000\n",
            "Generated  28.74016000096585\n",
            "Difference  1.2598399990341491\n",
            "Cost  0.32125919975370804\n"
          ]
        }
      ]
    }
  ]
}